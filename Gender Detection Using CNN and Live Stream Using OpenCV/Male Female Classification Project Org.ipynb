{
 "cells": [
  {
   "cell_type": "markdown",
   "id": "66936f12",
   "metadata": {
    "id": "66936f12"
   },
   "source": [
    "# Male Female Classification Project"
   ]
  },
  {
   "cell_type": "markdown",
   "id": "3063961e",
   "metadata": {
    "id": "3063961e"
   },
   "source": [
    "# Import Labraries"
   ]
  },
  {
   "cell_type": "code",
   "execution_count": 1,
   "id": "24f131d1",
   "metadata": {
    "id": "24f131d1"
   },
   "outputs": [],
   "source": [
    "import numpy as np\n",
    "import matplotlib.pyplot as plt\n",
    "import tensorflow as tf\n",
    "import os\n",
    "from tensorflow.keras.preprocessing.image import ImageDataGenerator\n",
    "from tensorflow.keras.preprocessing import image\n",
    "from tensorflow.keras import layers, optimizers, models"
   ]
  },
  {
   "cell_type": "markdown",
   "id": "69f1fa92",
   "metadata": {
    "id": "69f1fa92"
   },
   "source": [
    "# Load Data"
   ]
  },
  {
   "cell_type": "code",
   "execution_count": 2,
   "id": "3dfbaff3",
   "metadata": {
    "id": "3dfbaff3"
   },
   "outputs": [],
   "source": [
    "data_path=\"E:/Study DATA/Deep learning Projects/Male Female Classification Project/Dataset\""
   ]
  },
  {
   "cell_type": "code",
   "execution_count": 3,
   "id": "73511f6a",
   "metadata": {
    "id": "73511f6a"
   },
   "outputs": [],
   "source": [
    "train_data_path=os.path.join(data_path, 'Train Data')\n",
    "val_data_path=os.path.join(data_path, 'Validation Data')\n",
    "test_data_path=os.path.join(data_path, \"Test Data\")"
   ]
  },
  {
   "cell_type": "code",
   "execution_count": 4,
   "id": "c000204f",
   "metadata": {
    "id": "c000204f"
   },
   "outputs": [
    {
     "data": {
      "text/plain": [
       "['Female', 'Male']"
      ]
     },
     "execution_count": 4,
     "metadata": {},
     "output_type": "execute_result"
    }
   ],
   "source": [
    "names=os.listdir(train_data_path)\n",
    "names"
   ]
  },
  {
   "cell_type": "code",
   "execution_count": 5,
   "id": "31ad91ab",
   "metadata": {
    "id": "31ad91ab"
   },
   "outputs": [],
   "source": [
    "def total_img(path,names):\n",
    "    count=0\n",
    "    for name in names:\n",
    "        size=len(os.listdir(os.path.join(path, name)))\n",
    "        count+=size\n",
    "    return count"
   ]
  },
  {
   "cell_type": "code",
   "execution_count": 6,
   "id": "256b5c75",
   "metadata": {
    "id": "256b5c75"
   },
   "outputs": [
    {
     "name": "stdout",
     "output_type": "stream",
     "text": [
      "Total Training Images:  2870\n",
      "Total Validation Images:  500\n",
      "Total Test Images:  228\n"
     ]
    }
   ],
   "source": [
    "print(\"Total Training Images: \", total_img(train_data_path, names))\n",
    "print(\"Total Validation Images: \", total_img(val_data_path, names))\n",
    "print(\"Total Test Images: \", total_img(test_data_path, names))"
   ]
  },
  {
   "cell_type": "markdown",
   "id": "cd7f8d28",
   "metadata": {
    "id": "cd7f8d28"
   },
   "source": [
    "# Data preprocessing"
   ]
  },
  {
   "cell_type": "markdown",
   "id": "ee63029b",
   "metadata": {
    "id": "ee63029b"
   },
   "source": [
    "# 1 Read the picture files.\n",
    "\n",
    "2 Decode the JPEG content to RGB grids of pixels.\n",
    "\n",
    "3 Convert these into floating-point tensors.\n",
    "\n",
    "4 Rescale the pixel values (between 0 and 255) to the [0, 1] interval."
   ]
  },
  {
   "cell_type": "markdown",
   "id": "c2dbd346",
   "metadata": {},
   "source": [
    "### ImageDataGenerator tool do all the above image preprocessing steps"
   ]
  },
  {
   "cell_type": "markdown",
   "id": "173aadbc",
   "metadata": {
    "id": "173aadbc"
   },
   "source": [
    "# Using ImageDataGenerator to read images from directories"
   ]
  },
  {
   "cell_type": "code",
   "execution_count": 10,
   "id": "9883301e",
   "metadata": {
    "id": "9883301e"
   },
   "outputs": [],
   "source": [
    "datagenerator=ImageDataGenerator(rescale=1./255)"
   ]
  },
  {
   "cell_type": "code",
   "execution_count": 11,
   "id": "bded4a20",
   "metadata": {
    "id": "bded4a20"
   },
   "outputs": [
    {
     "name": "stdout",
     "output_type": "stream",
     "text": [
      "Found 2870 images belonging to 2 classes.\n"
     ]
    }
   ],
   "source": [
    "train_gen= datagenerator.flow_from_directory(\n",
    "                                              train_data_path,\n",
    "                                              batch_size=35,\n",
    "                                              target_size=(94,94),\n",
    "                                              class_mode='binary'\n",
    "                                            )"
   ]
  },
  {
   "cell_type": "code",
   "execution_count": 12,
   "id": "38cab314",
   "metadata": {
    "id": "38cab314"
   },
   "outputs": [
    {
     "name": "stdout",
     "output_type": "stream",
     "text": [
      "Found 500 images belonging to 2 classes.\n"
     ]
    }
   ],
   "source": [
    "val_gen= datagenerator.flow_from_directory(\n",
    "                                            val_data_path,\n",
    "                                            target_size=(94,94),\n",
    "                                            batch_size=20,\n",
    "                                            class_mode='binary'\n",
    "                                        )"
   ]
  },
  {
   "cell_type": "code",
   "execution_count": 13,
   "id": "f895ff36",
   "metadata": {
    "id": "f895ff36"
   },
   "outputs": [
    {
     "data": {
      "text/plain": [
       "{'Female': 0, 'Male': 1}"
      ]
     },
     "execution_count": 13,
     "metadata": {},
     "output_type": "execute_result"
    }
   ],
   "source": [
    "labels=train_gen.class_indices\n",
    "labels"
   ]
  },
  {
   "cell_type": "markdown",
   "id": "2bdb969f",
   "metadata": {
    "id": "2bdb969f"
   },
   "source": [
    "# Creating Network Architecture"
   ]
  },
  {
   "cell_type": "code",
   "execution_count": 14,
   "id": "16ff4777",
   "metadata": {
    "id": "16ff4777"
   },
   "outputs": [],
   "source": [
    "model=models.Sequential()\n",
    "\n",
    "model.add(layers.Conv2D(16, (3,3), activation='relu', input_shape=(94,94,3)))\n",
    "model.add(layers.MaxPooling2D(2,2))\n",
    "model.add(layers.Conv2D(32, (3,3), activation='relu'))\n",
    "model.add(layers.MaxPooling2D(2,2))\n",
    "model.add(layers.Conv2D(64, (3,3), activation='relu'))\n",
    "model.add(layers.MaxPooling2D(2,2))\n",
    "model.add(layers.Conv2D(128, (3,3), activation='relu'))\n",
    "model.add(layers.MaxPooling2D(2,2))\n",
    "model.add(layers.Flatten())\n",
    "model.add(layers.Dropout(0.5))\n",
    "model.add(layers.Dense(1024, activation='relu'))\n",
    "model.add(layers.Dropout(0.5))\n",
    "model.add(layers.Dense(128, activation='relu'))\n",
    "model.add(layers.Dropout(0.2))\n",
    "model.add(layers.Dense(1, activation='sigmoid'))"
   ]
  },
  {
   "cell_type": "code",
   "execution_count": 15,
   "id": "af2178a9",
   "metadata": {
    "id": "af2178a9",
    "scrolled": false
   },
   "outputs": [
    {
     "name": "stdout",
     "output_type": "stream",
     "text": [
      "Model: \"sequential_1\"\n",
      "_________________________________________________________________\n",
      " Layer (type)                Output Shape              Param #   \n",
      "=================================================================\n",
      " conv2d_4 (Conv2D)           (None, 92, 92, 16)        448       \n",
      "                                                                 \n",
      " max_pooling2d_4 (MaxPooling  (None, 46, 46, 16)       0         \n",
      " 2D)                                                             \n",
      "                                                                 \n",
      " conv2d_5 (Conv2D)           (None, 44, 44, 32)        4640      \n",
      "                                                                 \n",
      " max_pooling2d_5 (MaxPooling  (None, 22, 22, 32)       0         \n",
      " 2D)                                                             \n",
      "                                                                 \n",
      " conv2d_6 (Conv2D)           (None, 20, 20, 64)        18496     \n",
      "                                                                 \n",
      " max_pooling2d_6 (MaxPooling  (None, 10, 10, 64)       0         \n",
      " 2D)                                                             \n",
      "                                                                 \n",
      " conv2d_7 (Conv2D)           (None, 8, 8, 128)         73856     \n",
      "                                                                 \n",
      " max_pooling2d_7 (MaxPooling  (None, 4, 4, 128)        0         \n",
      " 2D)                                                             \n",
      "                                                                 \n",
      " flatten_1 (Flatten)         (None, 2048)              0         \n",
      "                                                                 \n",
      " dropout_3 (Dropout)         (None, 2048)              0         \n",
      "                                                                 \n",
      " dense_3 (Dense)             (None, 1024)              2098176   \n",
      "                                                                 \n",
      " dropout_4 (Dropout)         (None, 1024)              0         \n",
      "                                                                 \n",
      " dense_4 (Dense)             (None, 128)               131200    \n",
      "                                                                 \n",
      " dropout_5 (Dropout)         (None, 128)               0         \n",
      "                                                                 \n",
      " dense_5 (Dense)             (None, 1)                 129       \n",
      "                                                                 \n",
      "=================================================================\n",
      "Total params: 2,326,945\n",
      "Trainable params: 2,326,945\n",
      "Non-trainable params: 0\n",
      "_________________________________________________________________\n"
     ]
    }
   ],
   "source": [
    "model.summary()"
   ]
  },
  {
   "cell_type": "code",
   "execution_count": 16,
   "id": "4a48d141",
   "metadata": {
    "id": "4a48d141"
   },
   "outputs": [],
   "source": [
    "model.compile(optimizer=optimizers.RMSprop(learning_rate=0.0001), loss='binary_crossentropy', metrics=['accuracy'])"
   ]
  },
  {
   "cell_type": "markdown",
   "id": "30077b2d",
   "metadata": {
    "id": "30077b2d"
   },
   "source": [
    "# Callback"
   ]
  },
  {
   "cell_type": "code",
   "execution_count": 15,
   "id": "dcf75345",
   "metadata": {
    "id": "dcf75345"
   },
   "outputs": [],
   "source": [
    "class mycallback(tf.keras.callbacks.Callback):\n",
    "    def on_epoch_end(self, epoch, logs={}):\n",
    "        if logs.get(\"val_accuracy\") is not None and logs.get('val_accuracy')>=0.9500:\n",
    "            print(\"\\n Reached 95 val accuracy so cancelling training\")\n",
    "            self.model.stop_training=True\n",
    "\n",
    "callbacks=mycallback()\n",
    "\n",
    "# 2nd Callback\n",
    "#from tensorflow.keras.callbacks import ModelCheckPoint\n",
    "#model_save_path=\"E:/Study DATA/Deep learning Projects/Cotton Plant Disease Prediction\"\n",
    "#checkpoint=ModelCheckPoint(model_save_path, monitor='val_accuracy', verbose=1, save_best_only=True, mode='max' )"
   ]
  },
  {
   "cell_type": "markdown",
   "id": "4613c9e4",
   "metadata": {
    "id": "4613c9e4"
   },
   "source": [
    "# Training"
   ]
  },
  {
   "cell_type": "code",
   "execution_count": 17,
   "id": "7814912b",
   "metadata": {
    "id": "7814912b",
    "scrolled": false
   },
   "outputs": [
    {
     "name": "stdout",
     "output_type": "stream",
     "text": [
      "Epoch 1/50\n",
      "82/82 [==============================] - 86s 1s/step - loss: 0.6912 - accuracy: 0.5181 - val_loss: 0.6892 - val_accuracy: 0.6320\n",
      "Epoch 2/50\n",
      "82/82 [==============================] - 33s 409ms/step - loss: 0.6840 - accuracy: 0.5568 - val_loss: 0.6741 - val_accuracy: 0.6940\n",
      "Epoch 3/50\n",
      "82/82 [==============================] - 34s 414ms/step - loss: 0.6504 - accuracy: 0.6324 - val_loss: 0.6338 - val_accuracy: 0.6160\n",
      "Epoch 4/50\n",
      "82/82 [==============================] - 34s 412ms/step - loss: 0.5941 - accuracy: 0.6990 - val_loss: 0.5680 - val_accuracy: 0.7160\n",
      "Epoch 5/50\n",
      "82/82 [==============================] - 34s 413ms/step - loss: 0.5421 - accuracy: 0.7418 - val_loss: 0.5268 - val_accuracy: 0.7680\n",
      "Epoch 6/50\n",
      "82/82 [==============================] - 34s 410ms/step - loss: 0.4972 - accuracy: 0.7686 - val_loss: 0.5020 - val_accuracy: 0.7740\n",
      "Epoch 7/50\n",
      "82/82 [==============================] - 35s 428ms/step - loss: 0.4581 - accuracy: 0.7927 - val_loss: 0.4555 - val_accuracy: 0.8040\n",
      "Epoch 8/50\n",
      "82/82 [==============================] - 34s 412ms/step - loss: 0.4216 - accuracy: 0.8125 - val_loss: 0.4429 - val_accuracy: 0.7920\n",
      "Epoch 9/50\n",
      "82/82 [==============================] - 34s 409ms/step - loss: 0.3759 - accuracy: 0.8411 - val_loss: 0.4078 - val_accuracy: 0.8260\n",
      "Epoch 10/50\n",
      "82/82 [==============================] - 34s 414ms/step - loss: 0.3378 - accuracy: 0.8568 - val_loss: 0.3737 - val_accuracy: 0.8380\n",
      "Epoch 11/50\n",
      "82/82 [==============================] - 34s 410ms/step - loss: 0.3180 - accuracy: 0.8732 - val_loss: 0.3515 - val_accuracy: 0.8420\n",
      "Epoch 12/50\n",
      "82/82 [==============================] - 34s 414ms/step - loss: 0.2996 - accuracy: 0.8732 - val_loss: 0.3254 - val_accuracy: 0.8540\n",
      "Epoch 13/50\n",
      "82/82 [==============================] - 35s 420ms/step - loss: 0.2753 - accuracy: 0.8889 - val_loss: 0.3203 - val_accuracy: 0.8580\n",
      "Epoch 14/50\n",
      "82/82 [==============================] - 34s 413ms/step - loss: 0.2673 - accuracy: 0.8892 - val_loss: 0.2921 - val_accuracy: 0.8740\n",
      "Epoch 15/50\n",
      "82/82 [==============================] - 34s 412ms/step - loss: 0.2374 - accuracy: 0.9042 - val_loss: 0.2826 - val_accuracy: 0.8840\n",
      "Epoch 16/50\n",
      "82/82 [==============================] - 34s 418ms/step - loss: 0.2263 - accuracy: 0.9129 - val_loss: 0.4805 - val_accuracy: 0.7580\n",
      "Epoch 17/50\n",
      "82/82 [==============================] - 34s 414ms/step - loss: 0.2138 - accuracy: 0.9199 - val_loss: 0.2562 - val_accuracy: 0.8920\n",
      "Epoch 18/50\n",
      "82/82 [==============================] - 34s 413ms/step - loss: 0.2075 - accuracy: 0.9181 - val_loss: 0.2478 - val_accuracy: 0.9080\n",
      "Epoch 19/50\n",
      "82/82 [==============================] - 34s 412ms/step - loss: 0.1814 - accuracy: 0.9303 - val_loss: 0.2346 - val_accuracy: 0.9080\n",
      "Epoch 20/50\n",
      "82/82 [==============================] - 34s 412ms/step - loss: 0.1841 - accuracy: 0.9293 - val_loss: 0.2284 - val_accuracy: 0.9060\n",
      "Epoch 21/50\n",
      "82/82 [==============================] - 34s 417ms/step - loss: 0.1607 - accuracy: 0.9373 - val_loss: 0.2748 - val_accuracy: 0.8820\n",
      "Epoch 22/50\n",
      "82/82 [==============================] - 34s 412ms/step - loss: 0.1671 - accuracy: 0.9328 - val_loss: 0.2253 - val_accuracy: 0.9000\n",
      "Epoch 23/50\n",
      "82/82 [==============================] - 34s 414ms/step - loss: 0.1545 - accuracy: 0.9443 - val_loss: 0.2792 - val_accuracy: 0.9020\n",
      "Epoch 24/50\n",
      "82/82 [==============================] - 34s 411ms/step - loss: 0.1458 - accuracy: 0.9460 - val_loss: 0.2293 - val_accuracy: 0.8980\n",
      "Epoch 25/50\n",
      "82/82 [==============================] - 34s 416ms/step - loss: 0.1420 - accuracy: 0.9446 - val_loss: 0.1984 - val_accuracy: 0.9180\n",
      "Epoch 26/50\n",
      "82/82 [==============================] - 34s 414ms/step - loss: 0.1296 - accuracy: 0.9516 - val_loss: 0.2827 - val_accuracy: 0.8800\n",
      "Epoch 27/50\n",
      "82/82 [==============================] - 34s 417ms/step - loss: 0.1189 - accuracy: 0.9551 - val_loss: 0.1947 - val_accuracy: 0.9220\n",
      "Epoch 28/50\n",
      "82/82 [==============================] - 34s 414ms/step - loss: 0.1196 - accuracy: 0.9537 - val_loss: 0.2156 - val_accuracy: 0.9080\n",
      "Epoch 29/50\n",
      "82/82 [==============================] - 35s 425ms/step - loss: 0.1067 - accuracy: 0.9641 - val_loss: 0.2180 - val_accuracy: 0.9100\n",
      "Epoch 30/50\n",
      "82/82 [==============================] - 34s 419ms/step - loss: 0.1075 - accuracy: 0.9617 - val_loss: 0.2159 - val_accuracy: 0.9060\n",
      "Epoch 31/50\n",
      "82/82 [==============================] - 34s 416ms/step - loss: 0.0928 - accuracy: 0.9655 - val_loss: 0.1806 - val_accuracy: 0.9360\n",
      "Epoch 32/50\n",
      "82/82 [==============================] - 34s 418ms/step - loss: 0.0886 - accuracy: 0.9721 - val_loss: 0.1884 - val_accuracy: 0.9200\n",
      "Epoch 33/50\n",
      "82/82 [==============================] - 34s 413ms/step - loss: 0.0871 - accuracy: 0.9666 - val_loss: 0.1968 - val_accuracy: 0.9280\n",
      "Epoch 34/50\n",
      "82/82 [==============================] - 34s 414ms/step - loss: 0.0795 - accuracy: 0.9718 - val_loss: 0.1897 - val_accuracy: 0.9260\n",
      "Epoch 35/50\n",
      "82/82 [==============================] - 34s 416ms/step - loss: 0.0799 - accuracy: 0.9704 - val_loss: 0.1835 - val_accuracy: 0.9160\n",
      "Epoch 36/50\n",
      "82/82 [==============================] - 34s 417ms/step - loss: 0.0679 - accuracy: 0.9714 - val_loss: 0.1870 - val_accuracy: 0.9320\n",
      "Epoch 37/50\n",
      "82/82 [==============================] - 34s 414ms/step - loss: 0.0687 - accuracy: 0.9760 - val_loss: 0.2072 - val_accuracy: 0.9180\n",
      "Epoch 38/50\n",
      "82/82 [==============================] - 35s 422ms/step - loss: 0.0685 - accuracy: 0.9774 - val_loss: 0.1929 - val_accuracy: 0.9260\n",
      "Epoch 39/50\n",
      "82/82 [==============================] - 36s 435ms/step - loss: 0.0727 - accuracy: 0.9721 - val_loss: 0.2017 - val_accuracy: 0.9280\n",
      "Epoch 40/50\n",
      "82/82 [==============================] - 35s 424ms/step - loss: 0.0566 - accuracy: 0.9819 - val_loss: 0.2334 - val_accuracy: 0.9100\n",
      "Epoch 41/50\n",
      "82/82 [==============================] - 35s 431ms/step - loss: 0.0555 - accuracy: 0.9780 - val_loss: 0.1648 - val_accuracy: 0.9320\n",
      "Epoch 42/50\n",
      "82/82 [==============================] - 34s 415ms/step - loss: 0.0502 - accuracy: 0.9829 - val_loss: 0.2194 - val_accuracy: 0.9160\n",
      "Epoch 43/50\n",
      "82/82 [==============================] - 34s 417ms/step - loss: 0.0521 - accuracy: 0.9822 - val_loss: 0.1941 - val_accuracy: 0.9220\n",
      "Epoch 44/50\n",
      "82/82 [==============================] - 34s 415ms/step - loss: 0.0542 - accuracy: 0.9794 - val_loss: 0.1892 - val_accuracy: 0.9280\n",
      "Epoch 45/50\n",
      "82/82 [==============================] - 34s 419ms/step - loss: 0.0508 - accuracy: 0.9784 - val_loss: 0.1801 - val_accuracy: 0.9400\n",
      "Epoch 46/50\n",
      "82/82 [==============================] - 34s 413ms/step - loss: 0.0442 - accuracy: 0.9836 - val_loss: 0.2880 - val_accuracy: 0.8940\n",
      "Epoch 47/50\n",
      "82/82 [==============================] - 35s 421ms/step - loss: 0.0422 - accuracy: 0.9836 - val_loss: 0.2014 - val_accuracy: 0.9340\n",
      "Epoch 48/50\n",
      "82/82 [==============================] - 36s 436ms/step - loss: 0.0531 - accuracy: 0.9787 - val_loss: 0.1674 - val_accuracy: 0.9440\n",
      "Epoch 49/50\n",
      "82/82 [==============================] - 35s 424ms/step - loss: 0.0363 - accuracy: 0.9882 - val_loss: 0.1732 - val_accuracy: 0.9340\n",
      "Epoch 50/50\n",
      "82/82 [==============================] - 45s 545ms/step - loss: 0.0450 - accuracy: 0.9840 - val_loss: 0.1756 - val_accuracy: 0.9340\n"
     ]
    }
   ],
   "source": [
    "history=model.fit(train_gen, steps_per_epoch=82, epochs=50, validation_data=val_gen, validation_steps=25)"
   ]
  },
  {
   "cell_type": "code",
   "execution_count": 18,
   "id": "7d4c8dbf",
   "metadata": {
    "id": "7d4c8dbf"
   },
   "outputs": [
    {
     "data": {
      "image/png": "[encoded data removed]",
      "text/plain": [
       "<Figure size 432x288 with 1 Axes>"
      ]
     },
     "metadata": {
      "needs_background": "light"
     },
     "output_type": "display_data"
    }
   ],
   "source": [
    "acc = history.history['accuracy']\n",
    "val_acc = history.history['val_accuracy']\n",
    "epochs = range(1, len(acc) + 1)\n",
    "plt.plot(epochs, acc, 'bo', label='Training acc')\n",
    "plt.plot(epochs, val_acc, 'b', label='Validation acc')\n",
    "plt.title('Training and validation accuracy')\n",
    "plt.legend()\n",
    "plt.show()"
   ]
  },
  {
   "cell_type": "code",
   "execution_count": 19,
   "id": "u1P1PBSxBKdO",
   "metadata": {
    "id": "u1P1PBSxBKdO"
   },
   "outputs": [
    {
     "data": {
      "image/png": "[encoded data removed]",
      "text/plain": [
       "<Figure size 432x288 with 1 Axes>"
      ]
     },
     "metadata": {
      "needs_background": "light"
     },
     "output_type": "display_data"
    }
   ],
   "source": [
    "loss=history.history['loss']\n",
    "val_loss=history.history['val_loss']\n",
    "epochs= range(1,len(loss)+1)\n",
    "plt.plot(epochs, loss, 'bo', label=\"Training Loss\")\n",
    "plt.plot(epochs, val_loss, 'b', label=\"Validation Loss\" )\n",
    "plt.title(\"Training and Validation Loss\")\n",
    "plt.legend()\n",
    "plt.show()"
   ]
  },
  {
   "cell_type": "code",
   "execution_count": 20,
   "id": "dgdsBb-FC4Sb",
   "metadata": {
    "id": "dgdsBb-FC4Sb"
   },
   "outputs": [],
   "source": [
    "model.save(\"E:/Study DATA/Deep learning Projects/Male Female Classification Project/Male Female Classification Updated Model.h5\")"
   ]
  },
  {
   "cell_type": "code",
   "execution_count": 21,
   "id": "od0oogJTDtM1",
   "metadata": {
    "id": "od0oogJTDtM1"
   },
   "outputs": [],
   "source": [
    "testdatagen=ImageDataGenerator(rescale=1./255)"
   ]
  },
  {
   "cell_type": "code",
   "execution_count": 22,
   "id": "Jh8qDmJ_QFlN",
   "metadata": {
    "id": "Jh8qDmJ_QFlN"
   },
   "outputs": [
    {
     "name": "stdout",
     "output_type": "stream",
     "text": [
      "Found 228 images belonging to 2 classes.\n"
     ]
    }
   ],
   "source": [
    "test_generator=testdatagen.flow_from_directory(\n",
    "                                            test_data_path,\n",
    "                                            batch_size=6,\n",
    "                                            target_size=(94,94),\n",
    "                                            class_mode='binary'\n",
    "                                            )"
   ]
  },
  {
   "cell_type": "code",
   "execution_count": 23,
   "id": "n53s9vsqQWDe",
   "metadata": {
    "id": "n53s9vsqQWDe"
   },
   "outputs": [
    {
     "name": "stdout",
     "output_type": "stream",
     "text": [
      "38/38 [==============================] - 6s 162ms/step - loss: 0.1852 - accuracy: 0.9605\n"
     ]
    }
   ],
   "source": [
    "loss,acc= model.evaluate(test_generator)"
   ]
  },
  {
   "cell_type": "code",
   "execution_count": 24,
   "id": "i332k0HqQiKd",
   "metadata": {
    "id": "i332k0HqQiKd"
   },
   "outputs": [
    {
     "name": "stdout",
     "output_type": "stream",
     "text": [
      "Test Data Loss:  0.18515488505363464\n",
      "Test Data Accuracy:  0.9605262875556946\n"
     ]
    }
   ],
   "source": [
    "print(\"Test Data Loss: \",loss)\n",
    "print(\"Test Data Accuracy: \",acc)"
   ]
  },
  {
   "cell_type": "code",
   "execution_count": null,
   "id": "a7f2e857",
   "metadata": {},
   "outputs": [],
   "source": []
  }
 ],
 "metadata": {
  "accelerator": "GPU",
  "colab": {
   "collapsed_sections": [],
   "name": "Untitled22.ipynb",
   "private_outputs": true,
   "provenance": []
  },
  "kernelspec": {
   "display_name": "Python 3 (ipykernel)",
   "language": "python",
   "name": "python3"
  },
  "language_info": {
   "codemirror_mode": {
    "name": "ipython",
    "version": 3
   },
   "file_extension": ".py",
   "mimetype": "text/x-python",
   "name": "python",
   "nbconvert_exporter": "python",
   "pygments_lexer": "ipython3",
   "version": "3.7.13"
  }
 },
 "nbformat": 4,
 "nbformat_minor": 5
}
